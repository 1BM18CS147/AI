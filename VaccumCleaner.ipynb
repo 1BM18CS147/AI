{
 "cells": [
  {
   "cell_type": "markdown",
   "metadata": {},
   "source": [
    "VACCUM CLEANER AGENT"
   ]
  },
  {
   "cell_type": "markdown",
   "metadata": {},
   "source": [
    "Given MxN grid floor, create an agent that moves around the grid until entire grid is clean"
   ]
  },
  {
   "cell_type": "code",
   "execution_count": 1,
   "metadata": {},
   "outputs": [],
   "source": [
    "def clean(floor):\n",
    "    print(\"Starting Cleaning process\")\n",
    "    row = len(floor)\n",
    "    col = len(floor[0])\n",
    "    for i in range(0, row):\n",
    "        if(i%2 == 0):\n",
    "            for j in range(0, col):\n",
    "                if(floor[i][j] == 1):\n",
    "                    floor[i][j] = 0\n",
    "                print_floor(floor, i, j)\n",
    "        else:\n",
    "            for j in range(col-1, -1, -1):\n",
    "                if(floor[i][j] == 1):\n",
    "                    floor[i][j] = 0\n",
    "                print_floor(floor, i, j)"
   ]
  },
  {
   "cell_type": "code",
   "execution_count": 2,
   "metadata": {},
   "outputs": [],
   "source": [
    "def print_floor(floor, row, col):\n",
    "    for i in range(0, len(floor)):\n",
    "        for j in range(0, len(floor[0])):\n",
    "            if(i == row and j == col):\n",
    "                print(f\"|{floor[i][j]}|\", end=\" \")\n",
    "            else:\n",
    "                print(f\" {floor[i][j]} \", end=\" \")\n",
    "        print(end='\\n')\n",
    "    print(end='\\n')"
   ]
  },
  {
   "cell_type": "code",
   "execution_count": 3,
   "metadata": {},
   "outputs": [],
   "source": [
    "def main():\n",
    "    print(\"Enter no. of rows\")\n",
    "    m = int(input())\n",
    "    print(\"Enter no.of columns\")\n",
    "    n = int(input())\n",
    "    floor = []\n",
    "    print(\"Enter the grid\")\n",
    "    for i in range(0, m):\n",
    "        a = list(map(int, input().split(\" \")))\n",
    "        floor.append(a)\n",
    "    print()\n",
    "    clean(floor)"
   ]
  },
  {
   "cell_type": "code",
   "execution_count": 5,
   "metadata": {},
   "outputs": [
    {
     "name": "stdout",
     "output_type": "stream",
     "text": [
      "Enter no. of rows\n"
     ]
    },
    {
     "name": "stdin",
     "output_type": "stream",
     "text": [
      " 2\n"
     ]
    },
    {
     "name": "stdout",
     "output_type": "stream",
     "text": [
      "Enter no.of columns\n"
     ]
    },
    {
     "name": "stdin",
     "output_type": "stream",
     "text": [
      " 2\n"
     ]
    },
    {
     "name": "stdout",
     "output_type": "stream",
     "text": [
      "Enter the grid\n"
     ]
    },
    {
     "name": "stdin",
     "output_type": "stream",
     "text": [
      " 1 1\n",
      " 0 0\n"
     ]
    },
    {
     "name": "stdout",
     "output_type": "stream",
     "text": [
      "\n",
      "Starting Cleaning process\n",
      "|0|  1  \n",
      " 0   0  \n",
      "\n",
      " 0  |0| \n",
      " 0   0  \n",
      "\n",
      " 0   0  \n",
      " 0  |0| \n",
      "\n",
      " 0   0  \n",
      "|0|  0  \n",
      "\n"
     ]
    }
   ],
   "source": [
    "# Execution #1\n",
    "main()"
   ]
  },
  {
   "cell_type": "code",
   "execution_count": 6,
   "metadata": {},
   "outputs": [
    {
     "name": "stdout",
     "output_type": "stream",
     "text": [
      "Enter no. of rows\n"
     ]
    },
    {
     "name": "stdin",
     "output_type": "stream",
     "text": [
      " 3\n"
     ]
    },
    {
     "name": "stdout",
     "output_type": "stream",
     "text": [
      "Enter no.of columns\n"
     ]
    },
    {
     "name": "stdin",
     "output_type": "stream",
     "text": [
      " 4\n"
     ]
    },
    {
     "name": "stdout",
     "output_type": "stream",
     "text": [
      "Enter the grid\n"
     ]
    },
    {
     "name": "stdin",
     "output_type": "stream",
     "text": [
      " 1 0 1 1\n",
      " 1 0 0 1\n",
      " 0 0 0 1\n"
     ]
    },
    {
     "name": "stdout",
     "output_type": "stream",
     "text": [
      "\n",
      "Starting Cleaning process\n",
      "|0|  0   1   1  \n",
      " 1   0   0   1  \n",
      " 0   0   0   1  \n",
      "\n",
      " 0  |0|  1   1  \n",
      " 1   0   0   1  \n",
      " 0   0   0   1  \n",
      "\n",
      " 0   0  |0|  1  \n",
      " 1   0   0   1  \n",
      " 0   0   0   1  \n",
      "\n",
      " 0   0   0  |0| \n",
      " 1   0   0   1  \n",
      " 0   0   0   1  \n",
      "\n",
      " 0   0   0   0  \n",
      " 1   0   0  |0| \n",
      " 0   0   0   1  \n",
      "\n",
      " 0   0   0   0  \n",
      " 1   0  |0|  0  \n",
      " 0   0   0   1  \n",
      "\n",
      " 0   0   0   0  \n",
      " 1  |0|  0   0  \n",
      " 0   0   0   1  \n",
      "\n",
      " 0   0   0   0  \n",
      "|0|  0   0   0  \n",
      " 0   0   0   1  \n",
      "\n",
      " 0   0   0   0  \n",
      " 0   0   0   0  \n",
      "|0|  0   0   1  \n",
      "\n",
      " 0   0   0   0  \n",
      " 0   0   0   0  \n",
      " 0  |0|  0   1  \n",
      "\n",
      " 0   0   0   0  \n",
      " 0   0   0   0  \n",
      " 0   0  |0|  1  \n",
      "\n",
      " 0   0   0   0  \n",
      " 0   0   0   0  \n",
      " 0   0   0  |0| \n",
      "\n"
     ]
    }
   ],
   "source": [
    "# Execution #2\n",
    "main()"
   ]
  }
 ],
 "metadata": {
  "kernelspec": {
   "display_name": "Python 3",
   "language": "python",
   "name": "python3"
  },
  "language_info": {
   "codemirror_mode": {
    "name": "ipython",
    "version": 3
   },
   "file_extension": ".py",
   "mimetype": "text/x-python",
   "name": "python",
   "nbconvert_exporter": "python",
   "pygments_lexer": "ipython3",
   "version": "3.8.3"
  }
 },
 "nbformat": 4,
 "nbformat_minor": 4
}
